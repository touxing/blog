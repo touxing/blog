{
 "nbformat": 4,
 "nbformat_minor": 2,
 "metadata": {
  "language_info": {
   "name": "python",
   "codemirror_mode": {
    "name": "ipython",
    "version": 3
   },
   "version": "3.7.3-final"
  },
  "orig_nbformat": 2,
  "file_extension": ".py",
  "mimetype": "text/x-python",
  "name": "python",
  "npconvert_exporter": "python",
  "pygments_lexer": "ipython3",
  "version": 3,
  "kernelspec": {
   "name": "python3",
   "display_name": "Python 3"
  }
 },
 "cells": [
  {
   "cell_type": "code",
   "execution_count": 25,
   "metadata": {},
   "outputs": [
    {
     "name": "stdout",
     "output_type": "stream",
     "text": "运行时间：3.230199999990191ms\n"
    }
   ],
   "source": [
    "def Partition(l, left, right):\n",
    "    #先笨笨的选择枢纽值为列表头位的值\n",
    "    pivot = l[left]\n",
    "    #将枢纽值记录下来，因为后面会被覆盖\n",
    "    #代码动态图解参见大话数据结构，优化不必要的交换部分，采用覆盖的形式\n",
    "    while left < right:\n",
    "        while left < right and l[right] >= pivot:\n",
    "            right = right - 1\n",
    "        l[left] = l[right]\n",
    "        while left < right and l[left] <= pivot:\n",
    "            left = left + 1\n",
    "        l[right] = l[left]\n",
    "    #最后right,left指针共同指向的地方的值已经去覆盖了上一个值，这个位置就是枢纽值的位置了\n",
    "    l[left] = pivot\n",
    "    return left\n",
    "\n",
    "def QSort(l,left,right):\n",
    "    if left < right:\n",
    "        pivotindex = Partition(l,left,right)\n",
    "        QSort(l, left, pivotindex-1)\n",
    "        QSort(l, pivotindex+1, right)\n",
    "\n",
    "def QuickSort(l):\n",
    "    QSort(l,0,len(l)-1)\n",
    "\n",
    "if __name__ == \"__main__\":\n",
    "    random_list = []\n",
    "    for i in range(1000):\n",
    "        random_list.append(random.randint(1, 100))\n",
    "\n",
    "    start = time.perf_counter()\n",
    "    quickSort(random_list)\n",
    "    end = time.perf_counter()\n",
    "    print('运行时间：{0}ms'.format((end - start) * 1000))\n",
    "    "
   ]
  },
  {
   "cell_type": "code",
   "execution_count": 39,
   "metadata": {},
   "outputs": [
    {
     "name": "stdout",
     "output_type": "stream",
     "text": "运行时间：60.423500000013064ms\n"
    }
   ],
   "source": [
    "'''\n",
    "@Author: HotSuitor\n",
    "@Date: 2020-03-09 15:03:37\n",
    "@LastEditors: hs\n",
    "@LastEditTime: 2020-03-09 15:46:32\n",
    "@Description: hotsuitor@qq.com\n",
    "'''\n",
    "import random\n",
    "import timeit\n",
    "import time\n",
    "\n",
    "\n",
    "def quickSort(arr, left=None, right=None):\n",
    "    left = 0 if not isinstance(left, (int, float)) else left\n",
    "    right = len(arr) - 1 if not isinstance(right, (int, float)) else right\n",
    "    if left < right:\n",
    "        partitionIndex = partition(arr, left, right)\n",
    "        quickSort(arr, left, partitionIndex - 1)\n",
    "        quickSort(arr, partitionIndex + 1, right)\n",
    "    return arr\n",
    "\n",
    "\n",
    "def partition(arr, left, right):\n",
    "    pivot = left\n",
    "    index = pivot + 1\n",
    "    i = index\n",
    "    while i <= right:\n",
    "        if arr[i] < arr[pivot]:\n",
    "            swap(arr, i, index)\n",
    "            index += 1\n",
    "        i += 1\n",
    "    swap(arr, pivot, index - 1)\n",
    "    return index - 1\n",
    "\n",
    "\n",
    "def swap(arr, i, j):\n",
    "    arr[i], arr[j] = arr[j], arr[i]\n",
    "\n",
    "\n",
    "if __name__ == \"__main__\":\n",
    "    random_list = []\n",
    "    for i in range(10000):\n",
    "        random_list.append(random.randint(1, 100))\n",
    "\n",
    "    start = time.perf_counter()\n",
    "    quickSort(random_list)\n",
    "    end = time.perf_counter()\n",
    "    print('运行时间：{0}ms'.format((end - start) * 1000))\n"
   ]
  },
  {
   "cell_type": "code",
   "execution_count": null,
   "metadata": {},
   "outputs": [],
   "source": []
  }
 ]
}